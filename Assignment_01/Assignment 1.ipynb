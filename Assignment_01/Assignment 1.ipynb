{
 "cells": [
  {
   "cell_type": "raw",
   "metadata": {},
   "source": [
    "Question 1.\n",
    "Write a program which will find all such numbers which are divisible by 7 but are not a multipleof 5, \n",
    "between 2000 and 3200 (both included). The numbers obtained should be printed in acomma-separated sequence on a \n",
    "single line."
   ]
  },
  {
   "cell_type": "code",
   "execution_count": 1,
   "metadata": {},
   "outputs": [
    {
     "name": "stdout",
     "output_type": "stream",
     "text": [
      "2030,2065,2100,2135,2170,2205,2240,2275,2310,2345,2380,2415,2450,2485,2520,2555,2590,2625,2660,2695,2730,2765,2800,2835,2870,2905,2940,2975,3010,3045,3080,3115,3150,3185\n"
     ]
    }
   ],
   "source": [
    "num=[]\n",
    "for x in range(2000, 3200):\n",
    "    if (x%7==0) and (x%5==0):\n",
    "        num.append(str(x))\n",
    "print (','.join(num))"
   ]
  },
  {
   "cell_type": "raw",
   "metadata": {},
   "source": [
    "Question 2.\n",
    "Write a Python program to accept the user's first and last name and then getting them printed in\n",
    "the the reverse order with a space between first name and last name"
   ]
  },
  {
   "cell_type": "code",
   "execution_count": 2,
   "metadata": {},
   "outputs": [
    {
     "name": "stdout",
     "output_type": "stream",
     "text": [
      "Enter ur First Name : mohit \n",
      "Enter ur Last Name : shukla\n",
      "shukla mohit \n"
     ]
    }
   ],
   "source": [
    "fname = input(\"Enter ur First Name : \")\n",
    "lname = input(\"Enter ur Last Name : \")\n",
    "print ( lname + \" \" + fname)"
   ]
  },
  {
   "cell_type": "raw",
   "metadata": {},
   "source": [
    "Question 3.\n",
    "Write a Python program to find the volume of a sphere with diameter 12 cm.\n",
    "Formula: V=4/3 * π * r\n",
    "3"
   ]
  },
  {
   "cell_type": "code",
   "execution_count": 3,
   "metadata": {},
   "outputs": [
    {
     "name": "stdout",
     "output_type": "stream",
     "text": [
      "The volume of the sphere is:  904.752\n"
     ]
    }
   ],
   "source": [
    "#taking pi value as 3.1415\n",
    "pi = 3.1415\n",
    "#Converting Diameter into radius\n",
    "r = float(12/2)  #here no use of float bt later sometmies  value can we in float \n",
    "V= 4.0/3.0*pi* r**3\n",
    "print('The volume of the sphere is: ',V)\n"
   ]
  },
  {
   "cell_type": "markdown",
   "metadata": {},
   "source": [
    "# Task 2\n"
   ]
  },
  {
   "cell_type": "raw",
   "metadata": {},
   "source": [
    "Question 1\n",
    "Write a program which accepts a sequence of comma-separated numbers from console and\n",
    "generate a list"
   ]
  },
  {
   "cell_type": "code",
   "execution_count": 4,
   "metadata": {},
   "outputs": [
    {
     "name": "stdout",
     "output_type": "stream",
     "text": [
      "Enter comma seprated numbers : 2,3,4,5,6,7\n",
      "List :  ['2', '3', '4', '5', '6', '7']\n"
     ]
    }
   ],
   "source": [
    "values = input(\"Enter comma seprated numbers : \")\n",
    "list = values.split(\",\")\n",
    "print('List : ',list)\n"
   ]
  },
  {
   "cell_type": "raw",
   "metadata": {},
   "source": [
    "Question 2\n",
    "Write a Python program to reverse a word after accepting the input from the user."
   ]
  },
  {
   "cell_type": "code",
   "execution_count": 5,
   "metadata": {},
   "outputs": [
    {
     "name": "stdout",
     "output_type": "stream",
     "text": [
      "Enter the word:mohit\n",
      "Reverse of word: tihom\n"
     ]
    }
   ],
   "source": [
    "#for this i googled ....\n",
    "word = input('Enter the word:')\n",
    "while(len(word)):\n",
    "    print(\"Reverse of word:\",word[::-1], end='')\n",
    "    print('')\n",
    "    break"
   ]
  },
  {
   "cell_type": "raw",
   "metadata": {},
   "source": [
    "Question 3\n",
    "Create the below pattern using nested for loop in Python."
   ]
  },
  {
   "cell_type": "code",
   "execution_count": 6,
   "metadata": {},
   "outputs": [
    {
     "name": "stdout",
     "output_type": "stream",
     "text": [
      "*\n",
      "**\n",
      "***\n",
      "****\n",
      "*****\n",
      "****\n",
      "***\n",
      "**\n",
      "*\n"
     ]
    }
   ],
   "source": [
    "for i in range(1,6):\n",
    "    print('*'*i)\n",
    "else:\n",
    "    for i in range(4,0,-1):\n",
    "        print('*'*i)"
   ]
  },
  {
   "cell_type": "raw",
   "metadata": {},
   "source": [
    "Question 4\n",
    "Write a Python Program to print the given string in the format specified in the ​ sample output.\n",
    "WE, THE PEOPLE OF INDIA, having solemnly resolved to constitute India into a\n",
    "SOVEREIGN, SOCIALIST, SECULAR, DEMOCRATIC REPUBLIC and to secure to all\n",
    "its citizens"
   ]
  },
  {
   "cell_type": "code",
   "execution_count": 7,
   "metadata": {},
   "outputs": [
    {
     "name": "stdout",
     "output_type": "stream",
     "text": [
      "WE, THE PEOPLE OF INDIA,\n",
      "\thaving solemnly resolved to constitute India into a  \n",
      "\t\tSOVEREIGN, SOCIALIST, SECULAR, DEMOCRATIC REPUBLIC ! \n",
      "\t \t\tand to secure to all its citizens\n"
     ]
    }
   ],
   "source": [
    "print (\"WE, THE PEOPLE OF INDIA,\\n\\thaving solemnly resolved to constitute India into a  \\n\\t\\tSOVEREIGN, SOCIALIST, SECULAR, DEMOCRATIC REPUBLIC ! \\n\\t \\t\\tand to secure to all its citizens\")"
   ]
  },
  {
   "cell_type": "code",
   "execution_count": null,
   "metadata": {},
   "outputs": [],
   "source": []
  },
  {
   "cell_type": "code",
   "execution_count": null,
   "metadata": {},
   "outputs": [],
   "source": []
  }
 ],
 "metadata": {
  "kernelspec": {
   "display_name": "Python 3",
   "language": "python",
   "name": "python3"
  },
  "language_info": {
   "codemirror_mode": {
    "name": "ipython",
    "version": 3
   },
   "file_extension": ".py",
   "mimetype": "text/x-python",
   "name": "python",
   "nbconvert_exporter": "python",
   "pygments_lexer": "ipython3",
   "version": "3.7.4"
  }
 },
 "nbformat": 4,
 "nbformat_minor": 2
}
